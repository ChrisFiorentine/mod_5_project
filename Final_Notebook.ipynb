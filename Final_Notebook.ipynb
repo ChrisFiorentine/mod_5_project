{
 "cells": [
  {
   "cell_type": "markdown",
   "metadata": {},
   "source": [
    "# Winning in the Big Leagues"
   ]
  },
  {
   "cell_type": "code",
   "execution_count": null,
   "metadata": {},
   "outputs": [],
   "source": [
    "# Imports\n",
    "import pandas as pd\n",
    "import numpy as np\n",
    "import statsmodels.api as sm\n",
    "import matplotlib.pyplot as plt\n",
    "import seaborn as sns\n",
    "from sklearn.linear_model import LinearRegression\n",
    "from sklearn.model_selection import train_test_split\n",
    "from sklearn import metrics\n",
    "from sklearn.preprocessing import StandardScaler\n",
    "import matplotlib.pyplot as plt\n",
    "from sklearn import metrics\n",
    "%matplotlib inline \n",
    "import seaborn as sns\n",
    "sns.set_style('ticks')\n",
    "from sklearn.model_selection import GridSearchCV\n",
    "from sklearn.tree import DecisionTreeClassifier\n",
    "from sklearn.tree import DecisionTreeRegressor\n",
    "from sklearn.dummy import DummyClassifier\n",
    "from sklearn.metrics import accuracy_score, precision_score, recall_score, f1_score, roc_curve, roc_auc_score\n",
    "from sklearn import linear_model\n",
    "from sklearn.linear_model import LinearRegression\n",
    "from sklearn.linear_model import LogisticRegression\n",
    "from sklearn.ensemble import RandomForestClassifier\n",
    "import statsmodels.api as sm\n",
    "from scipy import stats\n",
    "from sklearn.metrics import confusion_matrix\n",
    "import itertools\n",
    "import xgboost as xgb\n",
    "from xgboost import plot_importance\n",
    "import warnings\n",
    "from datetime import datetime, timedelta\n",
    "from fbprophet import Prophet\n",
    "warnings.filterwarnings('ignore')\n",
    "pd.set_option('display.max_columns', None)"
   ]
  },
  {
   "cell_type": "code",
   "execution_count": 2,
   "metadata": {},
   "outputs": [],
   "source": [
    "# Read in CSV File\n",
    "df = pd.read_csv('file:///Users/chrisfiorentine/Downloads/game_logs.csv')"
   ]
  },
  {
   "cell_type": "code",
   "execution_count": 3,
   "metadata": {},
   "outputs": [],
   "source": [
    "# Use only years after 2015 \n",
    "df = df[df['date'] > 20150000]"
   ]
  },
  {
   "cell_type": "code",
   "execution_count": 4,
   "metadata": {},
   "outputs": [],
   "source": [
    "# Creating Run Diferential\n",
    "df['Run_dif'] = df.h_score - df.v_score"
   ]
  },
  {
   "cell_type": "code",
   "execution_count": 5,
   "metadata": {},
   "outputs": [],
   "source": [
    "# Creating Wins\n",
    "def wins(rd):\n",
    "    if rd > 0:\n",
    "        return 1\n",
    "    if rd < 0:\n",
    "        return 0"
   ]
  },
  {
   "cell_type": "code",
   "execution_count": 6,
   "metadata": {},
   "outputs": [],
   "source": [
    "df['Win'] = df['Run_dif'].apply(wins)"
   ]
  },
  {
   "cell_type": "code",
   "execution_count": 7,
   "metadata": {},
   "outputs": [],
   "source": [
    "# Drop not needed columns\n",
    "drop_columns = ['v_line_score','h_line_score','1b_umpire_id', '1b_umpire_name','2b_umpire_id','2b_umpire_name',\n",
    "                   '3b_umpire_id','3b_umpire_name','lf_umpire_id','lf_umpire_name','rf_umpire_id','rf_umpire_name',\n",
    "                   'winning_rbi_batter_id','winning_rbi_batter_id_name','winning_pitcher_id',\n",
    "                   'winning_pitcher_name','losing_pitcher_id','losing_pitcher_name','saving_pitcher_id',\n",
    "                   'saving_pitcher_name','additional_info','acquisition_info','number_of_game','day_of_week',\n",
    "                    'v_league','v_game_number','h_league','h_game_number','length_outs','day_night',\n",
    "                   'completion','forefeit','protest','park_id','length_minutes','v_starting_pitcher_name','v_player_1_id','v_player_1_name',\n",
    "                     'v_player_1_def_pos','v_player_2_id','v_player_3_id','v_player_4_id','v_player_5_id',\n",
    "                     'v_player_6_id','v_player_7_id','v_player_8_id','v_player_9_id','v_player_2_name',\n",
    "                     'v_player_3_name','v_player_4_name','v_player_5_name','v_player_6_name','v_player_7_name',\n",
    "                     'v_player_8_name','v_player_9_name','v_player_2_def_pos','v_player_3_def_pos',\n",
    "                     'v_player_4_def_pos','v_player_5_def_pos','v_player_6_def_pos','v_player_7_def_pos',\n",
    "                     'v_player_8_def_pos','v_player_9_def_pos','h_player_2_def_pos', 'h_player_3_id', 'h_player_3_name',\n",
    "       'h_player_3_def_pos', 'h_player_4_id', 'h_player_4_name',\n",
    "       'h_player_4_def_pos', 'h_player_5_id', 'h_player_5_name',\n",
    "       'h_player_5_def_pos', 'h_player_6_id', 'h_player_6_name',\n",
    "       'h_player_6_def_pos', 'h_player_7_id', 'h_player_7_name',\n",
    "       'h_player_7_def_pos', 'h_player_8_id', 'h_player_8_name',\n",
    "       'h_player_8_def_pos', 'h_player_9_id', 'h_player_9_name',\n",
    "       'h_player_9_def_pos','hp_umpire_id', 'hp_umpire_name',\n",
    "       'h_manager_id', 'h_manager_name',\n",
    "       'h_starting_pitcher_name', 'h_player_1_id', 'h_player_1_name','v_manager_id', 'v_manager_name',\n",
    "       'h_player_1_def_pos', 'h_player_2_id', 'h_player_2_name','v_starting_pitcher_id','h_starting_pitcher_id']"
   ]
  },
  {
   "cell_type": "code",
   "execution_count": 8,
   "metadata": {},
   "outputs": [],
   "source": [
    "df = df.drop(columns = drop_columns)"
   ]
  },
  {
   "cell_type": "code",
   "execution_count": 9,
   "metadata": {},
   "outputs": [],
   "source": [
    "df.dropna(inplace = True)"
   ]
  },
  {
   "cell_type": "markdown",
   "metadata": {},
   "source": [
    "## Feature Engineering"
   ]
  },
  {
   "cell_type": "code",
   "execution_count": 10,
   "metadata": {},
   "outputs": [],
   "source": [
    "df['h_xbh'] = df.h_doubles + df.h_triples + df.h_homeruns"
   ]
  },
  {
   "cell_type": "code",
   "execution_count": 11,
   "metadata": {},
   "outputs": [],
   "source": [
    "df = df.drop(columns = ['h_doubles','h_triples','h_homeruns'])"
   ]
  },
  {
   "cell_type": "code",
   "execution_count": 12,
   "metadata": {},
   "outputs": [],
   "source": [
    "df['v_xbh'] = df.v_doubles + df.v_triples + df.v_homeruns"
   ]
  },
  {
   "cell_type": "code",
   "execution_count": 13,
   "metadata": {},
   "outputs": [],
   "source": [
    "df = df.drop(columns = ['v_doubles','v_triples','v_homeruns'])"
   ]
  },
  {
   "cell_type": "code",
   "execution_count": 14,
   "metadata": {},
   "outputs": [],
   "source": [
    "df['v_pitcher_allowed_on_base'] = df.h_walks + df['h_intentional walks'] + df.h_hit_by_pitch"
   ]
  },
  {
   "cell_type": "code",
   "execution_count": 15,
   "metadata": {},
   "outputs": [],
   "source": [
    "df['h_pitcher_allowed_on_base'] = df.v_walks + df['v_intentional walks'] + df.v_hit_by_pitch"
   ]
  },
  {
   "cell_type": "code",
   "execution_count": 16,
   "metadata": {},
   "outputs": [],
   "source": [
    "df = df.drop(columns = ['v_walks','v_intentional walks','h_hit_by_pitch'])"
   ]
  },
  {
   "cell_type": "code",
   "execution_count": 17,
   "metadata": {},
   "outputs": [],
   "source": [
    "df = df.drop(columns = ['h_walks','h_intentional walks','v_hit_by_pitch'])"
   ]
  },
  {
   "cell_type": "code",
   "execution_count": 18,
   "metadata": {},
   "outputs": [],
   "source": [
    "df['v_advanced_runner'] = df.v_sacrifice_hits + df.v_sacrifice_flies +df.v_stolen_bases"
   ]
  },
  {
   "cell_type": "code",
   "execution_count": 19,
   "metadata": {},
   "outputs": [],
   "source": [
    "df['h_advanced_runner'] = df.h_sacrifice_hits + df.h_sacrifice_flies +df.h_stolen_bases"
   ]
  },
  {
   "cell_type": "code",
   "execution_count": 20,
   "metadata": {},
   "outputs": [],
   "source": [
    "df = df.drop(columns = ['h_sacrifice_hits','h_sacrifice_flies','h_stolen_bases'])"
   ]
  },
  {
   "cell_type": "code",
   "execution_count": 21,
   "metadata": {},
   "outputs": [],
   "source": [
    "df = df.drop(columns = ['v_sacrifice_hits','v_sacrifice_flies','v_stolen_bases'])"
   ]
  },
  {
   "cell_type": "code",
   "execution_count": 22,
   "metadata": {},
   "outputs": [],
   "source": [
    "df['v_pitcher_allowed_runner_advance'] = df.v_wild_pitches + df.v_balks + df.v_passed_balls"
   ]
  },
  {
   "cell_type": "code",
   "execution_count": 23,
   "metadata": {},
   "outputs": [],
   "source": [
    "df['h_pitcher_allowed_runner_advance'] = df.h_wild_pitches + df.h_balks + df.h_passed_balls"
   ]
  },
  {
   "cell_type": "code",
   "execution_count": 24,
   "metadata": {},
   "outputs": [],
   "source": [
    "df = df.drop(columns = ['v_wild_pitches','v_balks','v_passed_balls','h_wild_pitches','h_balks','h_passed_balls'])"
   ]
  },
  {
   "cell_type": "code",
   "execution_count": 25,
   "metadata": {},
   "outputs": [
    {
     "data": {
      "text/plain": [
       "<matplotlib.axes._subplots.AxesSubplot at 0x1c23a11690>"
      ]
     },
     "execution_count": 25,
     "metadata": {},
     "output_type": "execute_result"
    },
    {
     "data": {
      "image/png": "[encoded data removed]",
      "text/plain": [
       "<Figure size 792x648 with 2 Axes>"
      ]
     },
     "metadata": {},
     "output_type": "display_data"
    }
   ],
   "source": [
    "# Compute the correlation matrix\n",
    "corr = df.corr()\n",
    "\n",
    "mask = np.zeros_like(corr, dtype=np.bool)\n",
    "mask[np.triu_indices_from(mask)] = True\n",
    "\n",
    "f, ax = plt.subplots(figsize=(11, 9))\n",
    "\n",
    "cmap = sns.diverging_palette(220, 10, as_cmap=True)\n",
    "\n",
    "sns.heatmap(corr, mask=mask, cmap=cmap, vmax=1, center=0,\n",
    "            square=True, linewidths=.5, cbar_kws={\"shrink\": .5})"
   ]
  },
  {
   "cell_type": "code",
   "execution_count": 110,
   "metadata": {},
   "outputs": [],
   "source": [
    "# Read in second dataset\n",
    "df2 = pd.read_csv('file:///Users/chrisfiorentine/Downloads/datasets_3217_5288_baseball.csv')"
   ]
  },
  {
   "cell_type": "markdown",
   "metadata": {},
   "source": [
    "## EDA"
   ]
  },
  {
   "cell_type": "code",
   "execution_count": 30,
   "metadata": {},
   "outputs": [],
   "source": [
    "df2 = df2[df2['Year'] > 1998]"
   ]
  },
  {
   "cell_type": "code",
   "execution_count": 31,
   "metadata": {},
   "outputs": [
    {
     "data": {
      "text/plain": [
       "(array([ 1.,  8., 23., 81., 77., 82., 87., 53.,  7.,  1.]),\n",
       " array([ 43. ,  50.3,  57.6,  64.9,  72.2,  79.5,  86.8,  94.1, 101.4,\n",
       "        108.7, 116. ]),\n",
       " <a list of 10 Patch objects>)"
      ]
     },
     "execution_count": 31,
     "metadata": {},
     "output_type": "execute_result"
    },
    {
     "data": {
      "image/png": "[encoded data removed]",
      "text/plain": [
       "<Figure size 432x288 with 1 Axes>"
      ]
     },
     "metadata": {},
     "output_type": "display_data"
    }
   ],
   "source": [
    "plt.hist(df2['W'])"
   ]
  },
  {
   "cell_type": "code",
   "execution_count": 32,
   "metadata": {},
   "outputs": [],
   "source": [
    "playoffs_df = df2.loc[df2['Playoffs'] == 1]"
   ]
  },
  {
   "cell_type": "code",
   "execution_count": 33,
   "metadata": {},
   "outputs": [
    {
     "data": {
      "text/plain": [
       "count    114.000000\n",
       "mean     697.438596\n",
       "std       63.508627\n",
       "min      529.000000\n",
       "25%      650.250000\n",
       "50%      689.500000\n",
       "75%      733.500000\n",
       "max      860.000000\n",
       "Name: RA, dtype: float64"
      ]
     },
     "execution_count": 33,
     "metadata": {},
     "output_type": "execute_result"
    }
   ],
   "source": [
    "playoffs_df['RA'].describe()"
   ]
  },
  {
   "cell_type": "code",
   "execution_count": 34,
   "metadata": {},
   "outputs": [
    {
     "data": {
      "text/plain": [
       "count     114.000000\n",
       "mean      812.850877\n",
       "std        74.074494\n",
       "min       669.000000\n",
       "25%       761.250000\n",
       "50%       804.500000\n",
       "75%       865.250000\n",
       "max      1009.000000\n",
       "Name: RS, dtype: float64"
      ]
     },
     "execution_count": 34,
     "metadata": {},
     "output_type": "execute_result"
    }
   ],
   "source": [
    "playoffs_df['RS'].describe()"
   ]
  },
  {
   "cell_type": "code",
   "execution_count": 35,
   "metadata": {},
   "outputs": [
    {
     "data": {
      "text/html": [
       "<div>\n",
       "<style scoped>\n",
       "    .dataframe tbody tr th:only-of-type {\n",
       "        vertical-align: middle;\n",
       "    }\n",
       "\n",
       "    .dataframe tbody tr th {\n",
       "        vertical-align: top;\n",
       "    }\n",
       "\n",
       "    .dataframe thead th {\n",
       "        text-align: right;\n",
       "    }\n",
       "</style>\n",
       "<table border=\"1\" class=\"dataframe\">\n",
       "  <thead>\n",
       "    <tr style=\"text-align: right;\">\n",
       "      <th></th>\n",
       "      <th>Year</th>\n",
       "      <th>RS</th>\n",
       "      <th>RA</th>\n",
       "      <th>W</th>\n",
       "      <th>OBP</th>\n",
       "      <th>SLG</th>\n",
       "      <th>BA</th>\n",
       "      <th>Playoffs</th>\n",
       "      <th>RankSeason</th>\n",
       "      <th>RankPlayoffs</th>\n",
       "      <th>G</th>\n",
       "      <th>OOBP</th>\n",
       "      <th>OSLG</th>\n",
       "    </tr>\n",
       "  </thead>\n",
       "  <tbody>\n",
       "    <tr>\n",
       "      <th>count</th>\n",
       "      <td>114.000000</td>\n",
       "      <td>114.000000</td>\n",
       "      <td>114.000000</td>\n",
       "      <td>114.000000</td>\n",
       "      <td>114.000000</td>\n",
       "      <td>114.000000</td>\n",
       "      <td>114.000000</td>\n",
       "      <td>114.0</td>\n",
       "      <td>114.000000</td>\n",
       "      <td>114.000000</td>\n",
       "      <td>114.000000</td>\n",
       "      <td>114.000000</td>\n",
       "      <td>114.000000</td>\n",
       "    </tr>\n",
       "    <tr>\n",
       "      <th>mean</th>\n",
       "      <td>2005.614035</td>\n",
       "      <td>812.850877</td>\n",
       "      <td>697.438596</td>\n",
       "      <td>94.482456</td>\n",
       "      <td>0.341184</td>\n",
       "      <td>0.434061</td>\n",
       "      <td>0.269044</td>\n",
       "      <td>1.0</td>\n",
       "      <td>3.649123</td>\n",
       "      <td>3.157895</td>\n",
       "      <td>161.973684</td>\n",
       "      <td>0.321412</td>\n",
       "      <td>0.403833</td>\n",
       "    </tr>\n",
       "    <tr>\n",
       "      <th>std</th>\n",
       "      <td>4.103762</td>\n",
       "      <td>74.074494</td>\n",
       "      <td>63.508627</td>\n",
       "      <td>4.892169</td>\n",
       "      <td>0.013191</td>\n",
       "      <td>0.020652</td>\n",
       "      <td>0.010876</td>\n",
       "      <td>0.0</td>\n",
       "      <td>1.838538</td>\n",
       "      <td>1.077353</td>\n",
       "      <td>0.363380</td>\n",
       "      <td>0.011056</td>\n",
       "      <td>0.019147</td>\n",
       "    </tr>\n",
       "    <tr>\n",
       "      <th>min</th>\n",
       "      <td>1999.000000</td>\n",
       "      <td>669.000000</td>\n",
       "      <td>529.000000</td>\n",
       "      <td>82.000000</td>\n",
       "      <td>0.310000</td>\n",
       "      <td>0.389000</td>\n",
       "      <td>0.238000</td>\n",
       "      <td>1.0</td>\n",
       "      <td>1.000000</td>\n",
       "      <td>1.000000</td>\n",
       "      <td>161.000000</td>\n",
       "      <td>0.296000</td>\n",
       "      <td>0.361000</td>\n",
       "    </tr>\n",
       "    <tr>\n",
       "      <th>25%</th>\n",
       "      <td>2002.000000</td>\n",
       "      <td>761.250000</td>\n",
       "      <td>650.250000</td>\n",
       "      <td>91.000000</td>\n",
       "      <td>0.332000</td>\n",
       "      <td>0.420250</td>\n",
       "      <td>0.262250</td>\n",
       "      <td>1.0</td>\n",
       "      <td>2.000000</td>\n",
       "      <td>3.000000</td>\n",
       "      <td>162.000000</td>\n",
       "      <td>0.314000</td>\n",
       "      <td>0.392000</td>\n",
       "    </tr>\n",
       "    <tr>\n",
       "      <th>50%</th>\n",
       "      <td>2006.000000</td>\n",
       "      <td>804.500000</td>\n",
       "      <td>689.500000</td>\n",
       "      <td>95.000000</td>\n",
       "      <td>0.341000</td>\n",
       "      <td>0.433500</td>\n",
       "      <td>0.269000</td>\n",
       "      <td>1.0</td>\n",
       "      <td>4.000000</td>\n",
       "      <td>4.000000</td>\n",
       "      <td>162.000000</td>\n",
       "      <td>0.321000</td>\n",
       "      <td>0.403500</td>\n",
       "    </tr>\n",
       "    <tr>\n",
       "      <th>75%</th>\n",
       "      <td>2009.000000</td>\n",
       "      <td>865.250000</td>\n",
       "      <td>733.500000</td>\n",
       "      <td>97.000000</td>\n",
       "      <td>0.350000</td>\n",
       "      <td>0.448000</td>\n",
       "      <td>0.277000</td>\n",
       "      <td>1.0</td>\n",
       "      <td>5.000000</td>\n",
       "      <td>4.000000</td>\n",
       "      <td>162.000000</td>\n",
       "      <td>0.328000</td>\n",
       "      <td>0.417000</td>\n",
       "    </tr>\n",
       "    <tr>\n",
       "      <th>max</th>\n",
       "      <td>2012.000000</td>\n",
       "      <td>1009.000000</td>\n",
       "      <td>860.000000</td>\n",
       "      <td>116.000000</td>\n",
       "      <td>0.373000</td>\n",
       "      <td>0.491000</td>\n",
       "      <td>0.293000</td>\n",
       "      <td>1.0</td>\n",
       "      <td>7.000000</td>\n",
       "      <td>5.000000</td>\n",
       "      <td>163.000000</td>\n",
       "      <td>0.348000</td>\n",
       "      <td>0.459000</td>\n",
       "    </tr>\n",
       "  </tbody>\n",
       "</table>\n",
       "</div>"
      ],
      "text/plain": [
       "              Year           RS          RA           W         OBP  \\\n",
       "count   114.000000   114.000000  114.000000  114.000000  114.000000   \n",
       "mean   2005.614035   812.850877  697.438596   94.482456    0.341184   \n",
       "std       4.103762    74.074494   63.508627    4.892169    0.013191   \n",
       "min    1999.000000   669.000000  529.000000   82.000000    0.310000   \n",
       "25%    2002.000000   761.250000  650.250000   91.000000    0.332000   \n",
       "50%    2006.000000   804.500000  689.500000   95.000000    0.341000   \n",
       "75%    2009.000000   865.250000  733.500000   97.000000    0.350000   \n",
       "max    2012.000000  1009.000000  860.000000  116.000000    0.373000   \n",
       "\n",
       "              SLG          BA  Playoffs  RankSeason  RankPlayoffs           G  \\\n",
       "count  114.000000  114.000000     114.0  114.000000    114.000000  114.000000   \n",
       "mean     0.434061    0.269044       1.0    3.649123      3.157895  161.973684   \n",
       "std      0.020652    0.010876       0.0    1.838538      1.077353    0.363380   \n",
       "min      0.389000    0.238000       1.0    1.000000      1.000000  161.000000   \n",
       "25%      0.420250    0.262250       1.0    2.000000      3.000000  162.000000   \n",
       "50%      0.433500    0.269000       1.0    4.000000      4.000000  162.000000   \n",
       "75%      0.448000    0.277000       1.0    5.000000      4.000000  162.000000   \n",
       "max      0.491000    0.293000       1.0    7.000000      5.000000  163.000000   \n",
       "\n",
       "             OOBP        OSLG  \n",
       "count  114.000000  114.000000  \n",
       "mean     0.321412    0.403833  \n",
       "std      0.011056    0.019147  \n",
       "min      0.296000    0.361000  \n",
       "25%      0.314000    0.392000  \n",
       "50%      0.321000    0.403500  \n",
       "75%      0.328000    0.417000  \n",
       "max      0.348000    0.459000  "
      ]
     },
     "execution_count": 35,
     "metadata": {},
     "output_type": "execute_result"
    }
   ],
   "source": [
    "playoffs_df.describe()"
   ]
  },
  {
   "cell_type": "code",
   "execution_count": 36,
   "metadata": {},
   "outputs": [],
   "source": [
    "df2['RD'] = df2['RS'] - df2['RA']"
   ]
  },
  {
   "cell_type": "code",
   "execution_count": 37,
   "metadata": {},
   "outputs": [
    {
     "data": {
      "text/plain": [
       "<seaborn.axisgrid.FacetGrid at 0x1c34754150>"
      ]
     },
     "execution_count": 37,
     "metadata": {},
     "output_type": "execute_result"
    },
    {
     "data": {
      "image/png": "[encoded data removed]",
      "text/plain": [
       "<Figure size 360x360 with 1 Axes>"
      ]
     },
     "metadata": {},
     "output_type": "display_data"
    }
   ],
   "source": [
    "sns.catplot(data = df2, x = 'Playoffs', y = 'W', kind = 'box')"
   ]
  },
  {
   "cell_type": "code",
   "execution_count": 38,
   "metadata": {},
   "outputs": [
    {
     "data": {
      "text/plain": [
       "<seaborn.axisgrid.FacetGrid at 0x1c34740850>"
      ]
     },
     "execution_count": 38,
     "metadata": {},
     "output_type": "execute_result"
    },
    {
     "data": {
      "image/png": "[encoded data removed]",
      "text/plain": [
       "<Figure size 360x360 with 1 Axes>"
      ]
     },
     "metadata": {},
     "output_type": "display_data"
    }
   ],
   "source": [
    "sns.catplot(data = df2, x = 'Playoffs', y = 'RD', kind = 'box')"
   ]
  },
  {
   "cell_type": "code",
   "execution_count": 39,
   "metadata": {},
   "outputs": [
    {
     "data": {
      "text/plain": [
       "<seaborn.axisgrid.FacetGrid at 0x1c3611f790>"
      ]
     },
     "execution_count": 39,
     "metadata": {},
     "output_type": "execute_result"
    },
    {
     "data": {
      "image/png": "[encoded data removed]",
      "text/plain": [
       "<Figure size 360x360 with 1 Axes>"
      ]
     },
     "metadata": {},
     "output_type": "display_data"
    }
   ],
   "source": [
    "sns.catplot(data = df2, x = 'Playoffs', y = 'OBP', kind = 'box')"
   ]
  },
  {
   "cell_type": "markdown",
   "metadata": {},
   "source": [
    "## Modeling"
   ]
  },
  {
   "cell_type": "code",
   "execution_count": 40,
   "metadata": {},
   "outputs": [],
   "source": [
    "df2_features = df2.drop(columns = ['League', 'RankSeason','G','RankPlayoffs','Team','Playoffs','W','Year','RS','RA'])"
   ]
  },
  {
   "cell_type": "code",
   "execution_count": 41,
   "metadata": {},
   "outputs": [],
   "source": [
    "target = df2['W']"
   ]
  },
  {
   "cell_type": "code",
   "execution_count": 42,
   "metadata": {},
   "outputs": [],
   "source": [
    "X_train, X_test, y_train, y_test = train_test_split(df2_features, target,test_size=.25,random_state=30)"
   ]
  },
  {
   "cell_type": "code",
   "execution_count": 44,
   "metadata": {},
   "outputs": [],
   "source": [
    "scaler = StandardScaler()\n",
    "scaler.fit(X_train)\n",
    "X_train =pd.DataFrame(data=scaler.transform(X_train), columns= df2_features.columns)\n",
    "X_test =pd.DataFrame(data=scaler.transform(X_test), columns = df2_features.columns)"
   ]
  },
  {
   "cell_type": "code",
   "execution_count": 45,
   "metadata": {},
   "outputs": [
    {
     "name": "stdout",
     "output_type": "stream",
     "text": [
      "Training Root Mean Squared Error: 3.8324114578275443\n"
     ]
    }
   ],
   "source": [
    "lm = LinearRegression()\n",
    "lm = lm.fit(X_train, y_train)\n",
    "y_train_pred = lm.predict(X_train)\n",
    "train_rmse = np.sqrt(metrics.mean_squared_error(y_train, y_train_pred))\n",
    "print('Training Root Mean Squared Error:' , train_rmse)"
   ]
  },
  {
   "cell_type": "code",
   "execution_count": 47,
   "metadata": {},
   "outputs": [
    {
     "name": "stdout",
     "output_type": "stream",
     "text": [
      "Test Root Mean Squared Error: 3.9031019838651986\n"
     ]
    }
   ],
   "source": [
    "y_test_pred = lm.predict(X_test)\n",
    "test_rmse = np.sqrt(metrics.mean_squared_error(y_test, y_test_pred))\n",
    "print('Test Root Mean Squared Error:' , test_rmse)"
   ]
  },
  {
   "cell_type": "code",
   "execution_count": 48,
   "metadata": {},
   "outputs": [],
   "source": [
    "target2 = df2['Playoffs']"
   ]
  },
  {
   "cell_type": "code",
   "execution_count": 49,
   "metadata": {},
   "outputs": [],
   "source": [
    "X_train2, X_test2, y_train2, y_test2 = train_test_split(df2_features, target2,test_size=.25,random_state=25)"
   ]
  },
  {
   "cell_type": "code",
   "execution_count": 50,
   "metadata": {},
   "outputs": [
    {
     "name": "stdout",
     "output_type": "stream",
     "text": [
      "Test Accuracy score:  0.819047619047619\n",
      "Test F1 score:  0.7323943661971831\n"
     ]
    }
   ],
   "source": [
    "lr = LogisticRegression(solver='liblinear',class_weight='balanced')\n",
    "\n",
    "lr.fit(X_train2, y_train2)\n",
    "\n",
    "y_pred_test2 = lr.predict(X_test2)\n",
    "\n",
    "\n",
    "print('Test Accuracy score: ', accuracy_score(y_test2, y_pred_test2))\n",
    "\n",
    "\n",
    "print('Test F1 score: ', f1_score(y_test2, y_pred_test2))"
   ]
  },
  {
   "cell_type": "code",
   "execution_count": 51,
   "metadata": {},
   "outputs": [],
   "source": [
    "def plot_confusion_matrix(cm, classes,\n",
    "                          normalize=False,\n",
    "                          title='Confusion matrix',\n",
    "                          cmap=plt.cm.Blues):\n",
    "    \"\"\"\n",
    "    This function prints and plots the confusion matrix.\n",
    "    Normalization can be applied by setting `normalize=True`.\n",
    "    \"\"\"\n",
    "    if normalize:\n",
    "        cm = cm.astype('float') / cm.sum(axis=1)[:, np.newaxis]\n",
    "        print(\"Normalized confusion matrix\")\n",
    "    else:\n",
    "        print('Confusion Matrix, without normalization')\n",
    "\n",
    "    print(cm)\n",
    "\n",
    "    plt.imshow(cm, interpolation='nearest', cmap=cmap)\n",
    "    plt.title(title)\n",
    "    plt.colorbar()\n",
    "    tick_marks = np.arange(len(classes))\n",
    "    plt.xticks(tick_marks, classes, rotation=45)\n",
    "    plt.yticks(tick_marks, classes)\n",
    "\n",
    "    fmt = '.2f' if normalize else 'd'\n",
    "    thresh = cm.max() / 2.\n",
    "    for i, j in itertools.product(range(cm.shape[0]), range(cm.shape[1])):\n",
    "        plt.text(j, i, format(cm[i, j], fmt),\n",
    "                 horizontalalignment=\"center\",\n",
    "                 color=\"white\" if cm[i, j] > thresh else \"black\")\n",
    "    plt.tight_layout()\n",
    "    plt.ylabel('True label')\n",
    "    plt.xlabel('Predicted label')"
   ]
  },
  {
   "cell_type": "code",
   "execution_count": 53,
   "metadata": {},
   "outputs": [
    {
     "name": "stdout",
     "output_type": "stream",
     "text": [
      "Confusion Matrix, without normalization\n",
      "[[60 15]\n",
      " [ 4 26]]\n"
     ]
    },
    {
     "data": {
      "image/png": "[encoded data removed]",
      "text/plain": [
       "<Figure size 432x288 with 2 Axes>"
      ]
     },
     "metadata": {},
     "output_type": "display_data"
    }
   ],
   "source": [
    "cm = confusion_matrix(y_test2,y_pred_test2)\n",
    "classes = ['No Playoffs', 'Playoffs']\n",
    "plot_confusion_matrix(cm, classes,\n",
    "                          normalize=False,\n",
    "                          title='LR Balanced',\n",
    "                          cmap=plt.cm.Blues)"
   ]
  },
  {
   "cell_type": "code",
   "execution_count": 54,
   "metadata": {},
   "outputs": [],
   "source": [
    "lr_coef01 = pd.DataFrame(data=lr.coef_).T\n",
    "lr_coef01 = lr_coef01.set_index(X_train2.columns)\n",
    "lr_coef01 = lr_coef01.sort_values(by = 0, ascending = False).T"
   ]
  },
  {
   "cell_type": "code",
   "execution_count": 56,
   "metadata": {},
   "outputs": [
    {
     "data": {
      "text/html": [
       "<div>\n",
       "<style scoped>\n",
       "    .dataframe tbody tr th:only-of-type {\n",
       "        vertical-align: middle;\n",
       "    }\n",
       "\n",
       "    .dataframe tbody tr th {\n",
       "        vertical-align: top;\n",
       "    }\n",
       "\n",
       "    .dataframe thead th {\n",
       "        text-align: right;\n",
       "    }\n",
       "</style>\n",
       "<table border=\"1\" class=\"dataframe\">\n",
       "  <thead>\n",
       "    <tr style=\"text-align: right;\">\n",
       "      <th></th>\n",
       "      <th>0</th>\n",
       "    </tr>\n",
       "  </thead>\n",
       "  <tbody>\n",
       "    <tr>\n",
       "      <th>RD</th>\n",
       "      <td>0.037132</td>\n",
       "    </tr>\n",
       "    <tr>\n",
       "      <th>BA</th>\n",
       "      <td>-0.314431</td>\n",
       "    </tr>\n",
       "    <tr>\n",
       "      <th>OBP</th>\n",
       "      <td>-0.390766</td>\n",
       "    </tr>\n",
       "    <tr>\n",
       "      <th>OOBP</th>\n",
       "      <td>-0.400931</td>\n",
       "    </tr>\n",
       "    <tr>\n",
       "      <th>OSLG</th>\n",
       "      <td>-0.492859</td>\n",
       "    </tr>\n",
       "  </tbody>\n",
       "</table>\n",
       "</div>"
      ],
      "text/plain": [
       "             0\n",
       "RD    0.037132\n",
       "BA   -0.314431\n",
       "OBP  -0.390766\n",
       "OOBP -0.400931\n",
       "OSLG -0.492859"
      ]
     },
     "execution_count": 56,
     "metadata": {},
     "output_type": "execute_result"
    }
   ],
   "source": [
    "lr_coef01.T.head(5)"
   ]
  },
  {
   "cell_type": "markdown",
   "metadata": {},
   "source": [
    "## Feature Engineering"
   ]
  },
  {
   "cell_type": "code",
   "execution_count": 57,
   "metadata": {},
   "outputs": [],
   "source": [
    "train = df.head(3993)\n",
    "last_30_days = train.tail(381)"
   ]
  },
  {
   "cell_type": "code",
   "execution_count": 59,
   "metadata": {},
   "outputs": [],
   "source": [
    "test = df.tail(861)"
   ]
  },
  {
   "cell_type": "code",
   "execution_count": 60,
   "metadata": {},
   "outputs": [],
   "source": [
    "home_last30_mean = last_30_days.groupby('h_name').mean()"
   ]
  },
  {
   "cell_type": "code",
   "execution_count": 61,
   "metadata": {},
   "outputs": [],
   "source": [
    "home_last30_mean = home_last30_mean.reset_index()"
   ]
  },
  {
   "cell_type": "code",
   "execution_count": 62,
   "metadata": {},
   "outputs": [],
   "source": [
    "away_last30 = last_30_days.copy()"
   ]
  },
  {
   "cell_type": "code",
   "execution_count": 63,
   "metadata": {},
   "outputs": [],
   "source": [
    "away_last30['Run_dif'] = -away_last30['Run_dif']"
   ]
  },
  {
   "cell_type": "code",
   "execution_count": 64,
   "metadata": {},
   "outputs": [],
   "source": [
    "away_last30['Win'] = away_last30['Run_dif'].apply(wins)"
   ]
  },
  {
   "cell_type": "code",
   "execution_count": 65,
   "metadata": {},
   "outputs": [],
   "source": [
    "away_last30_mean = away_last30.groupby('v_name').mean()"
   ]
  },
  {
   "cell_type": "code",
   "execution_count": 66,
   "metadata": {},
   "outputs": [],
   "source": [
    "away_last30_mean = away_last30_mean.reset_index()"
   ]
  },
  {
   "cell_type": "code",
   "execution_count": 78,
   "metadata": {},
   "outputs": [],
   "source": [
    "new_df = pd.read_csv('new_df') # DataFrame from workbook notebook"
   ]
  },
  {
   "cell_type": "markdown",
   "metadata": {},
   "source": [
    "## Modeling"
   ]
  },
  {
   "cell_type": "code",
   "execution_count": 70,
   "metadata": {},
   "outputs": [],
   "source": [
    "# Function to fit a model and predict outcomes\n",
    "\n",
    "def fit_predict_classes(model, x_train, y_train, x_test,y_test):\n",
    "    model.fit(x_train, y_train)\n",
    "    train_predictions = model.predict(x_train)\n",
    "    test_predictions = model.predict(x_test)\n",
    "    \n",
    "    print('Training Accuracy score: ', accuracy_score(y_train, train_predictions))\n",
    "\n",
    "    print('Training F1 score: ', f1_score(y_train, train_predictions))\n",
    "    \n",
    "    print('Training ROC AUC score: ', roc_auc_score(y_train, train_predictions))\n",
    "    \n",
    "    print()\n",
    "\n",
    "    print('Testing Accuracy score: ', accuracy_score(y_test, test_predictions))\n",
    "\n",
    "    print('Testing F1 score: ', f1_score(y_test, test_predictions))\n",
    "    \n",
    "    print('Testing ROC AUC score: ', roc_auc_score(y_test, test_predictions))"
   ]
  },
  {
   "cell_type": "code",
   "execution_count": 71,
   "metadata": {},
   "outputs": [],
   "source": [
    "# Instantiating Logistic Regression Classification\n",
    "log_reg = LogisticRegression(solver='liblinear', class_weight='balanced') "
   ]
  },
  {
   "cell_type": "code",
   "execution_count": 72,
   "metadata": {},
   "outputs": [],
   "source": [
    "# Instantiate Random Forest Classifier\n",
    "rfc = RandomForestClassifier()"
   ]
  },
  {
   "cell_type": "code",
   "execution_count": 73,
   "metadata": {},
   "outputs": [],
   "source": [
    "# Instantiate XGBoost \n",
    "xgb = xgb_est = xgb.XGBClassifier(objective = 'binary:logistic')"
   ]
  },
  {
   "cell_type": "code",
   "execution_count": 74,
   "metadata": {},
   "outputs": [],
   "source": [
    "df_2016 = pd.read_csv('df3') # DataFrame from functions notebook"
   ]
  },
  {
   "cell_type": "code",
   "execution_count": 75,
   "metadata": {},
   "outputs": [],
   "source": [
    "df_2016 = df_2016.drop(columns = ['attendance','v_at_bats','v_hits','v_rbi','v_strikeouts',\n",
    "                            'v_caught_stealing',\n",
    "       'v_grounded_into_double', 'v_first_catcher_interference',\n",
    "       'v_left_on_base', 'v_pitchers_used', 'v_individual_earned_runs',\n",
    "       'v_team_earned_runs', 'v_putouts', 'v_assists', 'v_errors',\n",
    "       'v_double_plays', 'v_triple_plays', 'h_at_bats', 'h_hits', 'h_rbi',\n",
    "       'h_strikeouts', 'h_caught_stealing', 'h_grounded_into_double',\n",
    "       'h_first_catcher_interference', 'h_left_on_base', 'h_pitchers_used',\n",
    "       'h_individual_earned_runs', 'h_team_earned_runs', 'h_putouts',\n",
    "       'h_assists', 'h_errors', 'h_double_plays', 'h_triple_plays','h_xbh', 'v_xbh',\n",
    "       'v_pitcher_allowed_on_base', 'h_pitcher_allowed_on_base',\n",
    "       'v_advanced_runner', 'h_advanced_runner',\n",
    "       'v_pitcher_allowed_runner_advance', 'h_pitcher_allowed_runner_advance'])"
   ]
  },
  {
   "cell_type": "code",
   "execution_count": 79,
   "metadata": {},
   "outputs": [],
   "source": [
    "full_df = df_2016.merge(new_df)"
   ]
  },
  {
   "cell_type": "code",
   "execution_count": 80,
   "metadata": {},
   "outputs": [],
   "source": [
    "full_df = full_df.drop_duplicates()"
   ]
  },
  {
   "cell_type": "code",
   "execution_count": 81,
   "metadata": {},
   "outputs": [],
   "source": [
    "train_df2 = full_df[full_df['date'] > 20160000]\n",
    "train_df2 = train_df2.head(1565)"
   ]
  },
  {
   "cell_type": "code",
   "execution_count": 82,
   "metadata": {},
   "outputs": [],
   "source": [
    "test_df2 = full_df.loc[3995:4418]"
   ]
  },
  {
   "cell_type": "code",
   "execution_count": 88,
   "metadata": {},
   "outputs": [],
   "source": [
    "X_train_final = train_df2.drop(columns = ['date', 'Run_dif', 'Win','v_score','h_score','v_name','h_name'])"
   ]
  },
  {
   "cell_type": "code",
   "execution_count": 89,
   "metadata": {},
   "outputs": [],
   "source": [
    "y_train_final = train_df2.Win"
   ]
  },
  {
   "cell_type": "code",
   "execution_count": 90,
   "metadata": {},
   "outputs": [],
   "source": [
    "X_test_final = test_df2.drop(columns = ['date', 'Run_dif', 'Win','v_score','h_score','v_name','h_name'])"
   ]
  },
  {
   "cell_type": "code",
   "execution_count": 91,
   "metadata": {},
   "outputs": [],
   "source": [
    "y_test_final = test_df2.Win"
   ]
  },
  {
   "cell_type": "code",
   "execution_count": 92,
   "metadata": {},
   "outputs": [],
   "source": [
    "scaler = StandardScaler()\n",
    "scaler.fit(X_train_final)\n",
    "X_train_final =pd.DataFrame(data=scaler.transform(X_train_final), columns= X_train_final.columns)\n",
    "X_test_final =pd.DataFrame(data=scaler.transform(X_test_final), columns = X_train_final.columns)"
   ]
  },
  {
   "cell_type": "code",
   "execution_count": 93,
   "metadata": {},
   "outputs": [
    {
     "name": "stdout",
     "output_type": "stream",
     "text": [
      "Training Accuracy score:  0.6121405750798722\n",
      "Training F1 score:  0.632344033918837\n",
      "Training ROC AUC score:  0.6113601066467033\n",
      "\n",
      "Testing Accuracy score:  0.6344339622641509\n",
      "Testing F1 score:  0.651685393258427\n",
      "Testing ROC AUC score:  0.6345426044116\n"
     ]
    }
   ],
   "source": [
    "# Fit Predict Log Reg\n",
    "fit_predict_classes(log_reg, X_train_final,y_train_final,X_test_final,y_test_final)"
   ]
  },
  {
   "cell_type": "code",
   "execution_count": 94,
   "metadata": {},
   "outputs": [
    {
     "name": "stdout",
     "output_type": "stream",
     "text": [
      "Training Accuracy score:  0.7680511182108626\n",
      "Training F1 score:  0.7888307155322862\n",
      "Training ROC AUC score:  0.7649339860847066\n",
      "\n",
      "Testing Accuracy score:  0.7783018867924528\n",
      "Testing F1 score:  0.8008474576271187\n",
      "Testing ROC AUC score:  0.7742022169969768\n"
     ]
    }
   ],
   "source": [
    "# Fit Predict Random Forest\n",
    "fit_predict_classes(rfc, X_train_final,y_train_final,X_test_final,y_test_final)"
   ]
  },
  {
   "cell_type": "code",
   "execution_count": 95,
   "metadata": {},
   "outputs": [
    {
     "name": "stdout",
     "output_type": "stream",
     "text": [
      "Training Accuracy score:  0.7680511182108626\n",
      "Training F1 score:  0.7873462214411249\n",
      "Training ROC AUC score:  0.7654905321499752\n",
      "\n",
      "Testing Accuracy score:  0.7735849056603774\n",
      "Testing F1 score:  0.7948717948717948\n",
      "Testing ROC AUC score:  0.770216101220468\n"
     ]
    }
   ],
   "source": [
    "# Fit Predict XGBoost\n",
    "fit_predict_classes(xgb, X_train_final,y_train_final,X_test_final,y_test_final)"
   ]
  },
  {
   "cell_type": "code",
   "execution_count": 96,
   "metadata": {},
   "outputs": [],
   "source": [
    "param_dist2 = {'n_estimators': [100,300,500],\n",
    "              'learning_rate': [0.1,0.01],\n",
    "              'max_depth': [3, 4, 6, 8],\n",
    "              'colsample_bytree': [0.5,0.4],\n",
    "              'min_child_weight': [1,  3]\n",
    "             }"
   ]
  },
  {
   "cell_type": "code",
   "execution_count": 99,
   "metadata": {},
   "outputs": [],
   "source": [
    "xgb_gs = GridSearchCV(\n",
    "    estimator = xgb_est,\n",
    "    param_grid = param_dist2, \n",
    "    scoring='accuracy',\n",
    "    #n_jobs=-1,\n",
    "    verbose=1,\n",
    "    iid=False, \n",
    "    cv=5)"
   ]
  },
  {
   "cell_type": "code",
   "execution_count": 100,
   "metadata": {},
   "outputs": [
    {
     "name": "stdout",
     "output_type": "stream",
     "text": [
      "Fitting 5 folds for each of 96 candidates, totalling 480 fits\n"
     ]
    },
    {
     "name": "stderr",
     "output_type": "stream",
     "text": [
      "[Parallel(n_jobs=1)]: Using backend SequentialBackend with 1 concurrent workers.\n",
      "[Parallel(n_jobs=1)]: Done 480 out of 480 | elapsed:  3.5min finished\n"
     ]
    },
    {
     "data": {
      "text/plain": [
       "GridSearchCV(cv=5,\n",
       "             estimator=XGBClassifier(base_score=0.5, booster=None,\n",
       "                                     colsample_bylevel=1, colsample_bynode=1,\n",
       "                                     colsample_bytree=1, gamma=0, gpu_id=-1,\n",
       "                                     importance_type='gain',\n",
       "                                     interaction_constraints=None,\n",
       "                                     learning_rate=0.300000012,\n",
       "                                     max_delta_step=0, max_depth=6,\n",
       "                                     min_child_weight=1, missing=nan,\n",
       "                                     monotone_constraints=None,\n",
       "                                     n_estimators=100, n_jobs=0,\n",
       "                                     num_parallel_tree=1, random_state=0,\n",
       "                                     reg_alpha=0, reg_lambda=1,\n",
       "                                     scale_pos_weight=1, subsample=1,\n",
       "                                     tree_method=None,\n",
       "                                     validate_parameters=False,\n",
       "                                     verbosity=None),\n",
       "             iid=False,\n",
       "             param_grid={'colsample_bytree': [0.5, 0.4],\n",
       "                         'learning_rate': [0.1, 0.01],\n",
       "                         'max_depth': [3, 4, 6, 8], 'min_child_weight': [1, 3],\n",
       "                         'n_estimators': [100, 300, 500]},\n",
       "             scoring='accuracy', verbose=1)"
      ]
     },
     "execution_count": 100,
     "metadata": {},
     "output_type": "execute_result"
    }
   ],
   "source": [
    "xgb_gs.fit(X_train_final,y_train_final)"
   ]
  },
  {
   "cell_type": "code",
   "execution_count": 101,
   "metadata": {},
   "outputs": [
    {
     "name": "stdout",
     "output_type": "stream",
     "text": [
      "0.5514376996805112\n",
      "{'colsample_bytree': 0.4, 'learning_rate': 0.01, 'max_depth': 3, 'min_child_weight': 1, 'n_estimators': 100}\n",
      "XGBClassifier(base_score=0.5, booster=None, colsample_bylevel=1,\n",
      "              colsample_bynode=1, colsample_bytree=0.4, gamma=0, gpu_id=-1,\n",
      "              importance_type='gain', interaction_constraints=None,\n",
      "              learning_rate=0.01, max_delta_step=0, max_depth=3,\n",
      "              min_child_weight=1, missing=nan, monotone_constraints=None,\n",
      "              n_estimators=100, n_jobs=0, num_parallel_tree=1, random_state=0,\n",
      "              reg_alpha=0, reg_lambda=1, scale_pos_weight=1, subsample=1,\n",
      "              tree_method=None, validate_parameters=False, verbosity=None)\n"
     ]
    }
   ],
   "source": [
    "print(xgb_gs.best_score_)\n",
    "print(xgb_gs.best_params_)\n",
    "print(xgb_gs.best_estimator_)"
   ]
  },
  {
   "cell_type": "code",
   "execution_count": 102,
   "metadata": {},
   "outputs": [
    {
     "name": "stdout",
     "output_type": "stream",
     "text": [
      "Training Accuracy score:  0.6466453674121406\n",
      "Training F1 score:  0.6936288088642659\n",
      "Training ROC AUC score:  0.6389033908266761\n",
      "\n",
      "Testing Accuracy score:  0.6768867924528302\n",
      "Testing F1 score:  0.7209775967413443\n",
      "Testing ROC AUC score:  0.668514164147352\n"
     ]
    }
   ],
   "source": [
    "fit_predict_classes(xgb_gs.best_estimator_,X_train_final, y_train_final,X_test_final,y_test_final)"
   ]
  },
  {
   "cell_type": "code",
   "execution_count": 103,
   "metadata": {},
   "outputs": [],
   "source": [
    "xgb_pred = xgb.predict(X_test_final)"
   ]
  },
  {
   "cell_type": "code",
   "execution_count": 105,
   "metadata": {},
   "outputs": [
    {
     "name": "stdout",
     "output_type": "stream",
     "text": [
      "Confusion Matrix, without normalization\n",
      "[[142  53]\n",
      " [ 43 186]]\n"
     ]
    },
    {
     "data": {
      "image/png": "[encoded data removed]",
      "text/plain": [
       "<Figure size 432x288 with 2 Axes>"
      ]
     },
     "metadata": {},
     "output_type": "display_data"
    }
   ],
   "source": [
    "cm = confusion_matrix(y_test_final,xgb_pred)\n",
    "classes = ['Loss', 'Win']\n",
    "plot_confusion_matrix(cm, classes,\n",
    "                          normalize=False,\n",
    "                          title='XGBoost',\n",
    "                          cmap=plt.cm.coolwarm)"
   ]
  },
  {
   "cell_type": "code",
   "execution_count": 106,
   "metadata": {},
   "outputs": [
    {
     "name": "stdout",
     "output_type": "stream",
     "text": [
      "Training Accuracy score:  0.5150159744408945\n",
      "Training F1 score:  0.5380401704199635\n",
      "Training ROC AUC score:  0.5140975252579977\n",
      "\n",
      "Testing Accuracy score:  0.4882075471698113\n",
      "Testing F1 score:  0.5412262156448203\n",
      "Testing ROC AUC score:  0.4820400850968537\n"
     ]
    }
   ],
   "source": [
    "#Fit Predict Dummy Classifier\n",
    "fit_predict_classes(DummyClassifier(),X_train_final,y_train_final,X_test_final,y_test_final)"
   ]
  },
  {
   "cell_type": "code",
   "execution_count": 107,
   "metadata": {},
   "outputs": [
    {
     "data": {
      "text/plain": [
       "<matplotlib.axes._subplots.AxesSubplot at 0x1c3311c490>"
      ]
     },
     "execution_count": 107,
     "metadata": {},
     "output_type": "execute_result"
    },
    {
     "data": {
      "image/png": "[encoded data removed]",
      "text/plain": [
       "<Figure size 432x288 with 1 Axes>"
      ]
     },
     "metadata": {},
     "output_type": "display_data"
    }
   ],
   "source": [
    "plot_importance(xgb, max_num_features=7,height = 0.5)"
   ]
  },
  {
   "cell_type": "code",
   "execution_count": 108,
   "metadata": {},
   "outputs": [],
   "source": [
    "xgb_features = xgb.get_booster().get_fscore()"
   ]
  },
  {
   "cell_type": "code",
   "execution_count": 109,
   "metadata": {},
   "outputs": [
    {
     "data": {
      "text/html": [
       "<div>\n",
       "<style scoped>\n",
       "    .dataframe tbody tr th:only-of-type {\n",
       "        vertical-align: middle;\n",
       "    }\n",
       "\n",
       "    .dataframe tbody tr th {\n",
       "        vertical-align: top;\n",
       "    }\n",
       "\n",
       "    .dataframe thead th {\n",
       "        text-align: right;\n",
       "    }\n",
       "</style>\n",
       "<table border=\"1\" class=\"dataframe\">\n",
       "  <thead>\n",
       "    <tr style=\"text-align: right;\">\n",
       "      <th></th>\n",
       "      <th>0</th>\n",
       "    </tr>\n",
       "  </thead>\n",
       "  <tbody>\n",
       "    <tr>\n",
       "      <th>h_2016_avg_rd</th>\n",
       "      <td>118</td>\n",
       "    </tr>\n",
       "    <tr>\n",
       "      <th>v_2016_avg_rd</th>\n",
       "      <td>111</td>\n",
       "    </tr>\n",
       "    <tr>\n",
       "      <th>v_2016_avg_hits</th>\n",
       "      <td>82</td>\n",
       "    </tr>\n",
       "    <tr>\n",
       "      <th>h_2016_avg_hits</th>\n",
       "      <td>68</td>\n",
       "    </tr>\n",
       "    <tr>\n",
       "      <th>v_2016_avg_xbh</th>\n",
       "      <td>67</td>\n",
       "    </tr>\n",
       "    <tr>\n",
       "      <th>h_2016_win_rate</th>\n",
       "      <td>63</td>\n",
       "    </tr>\n",
       "    <tr>\n",
       "      <th>h_30_day_avg_rd</th>\n",
       "      <td>61</td>\n",
       "    </tr>\n",
       "    <tr>\n",
       "      <th>h_30_day_avg_allowed_on_base</th>\n",
       "      <td>58</td>\n",
       "    </tr>\n",
       "    <tr>\n",
       "      <th>h_2016_avg_on_base_by_pitcher</th>\n",
       "      <td>57</td>\n",
       "    </tr>\n",
       "    <tr>\n",
       "      <th>v_2016_avg_attendance</th>\n",
       "      <td>55</td>\n",
       "    </tr>\n",
       "  </tbody>\n",
       "</table>\n",
       "</div>"
      ],
      "text/plain": [
       "                                 0\n",
       "h_2016_avg_rd                  118\n",
       "v_2016_avg_rd                  111\n",
       "v_2016_avg_hits                 82\n",
       "h_2016_avg_hits                 68\n",
       "v_2016_avg_xbh                  67\n",
       "h_2016_win_rate                 63\n",
       "h_30_day_avg_rd                 61\n",
       "h_30_day_avg_allowed_on_base    58\n",
       "h_2016_avg_on_base_by_pitcher   57\n",
       "v_2016_avg_attendance           55"
      ]
     },
     "execution_count": 109,
     "metadata": {},
     "output_type": "execute_result"
    }
   ],
   "source": [
    "pd.DataFrame.from_dict(xgb_features, orient = 'index').sort_values(by = 0, ascending = False).head(10)"
   ]
  },
  {
   "cell_type": "markdown",
   "metadata": {},
   "source": [
    "## Conclusion "
   ]
  },
  {
   "cell_type": "markdown",
   "metadata": {},
   "source": [
    "XGBoost and Random Forest had the best models at 77% accuracy. \n",
    "Most important features are Run Dif, Hits, Walks, and scoring when there are runners on base. "
   ]
  }
 ],
 "metadata": {
  "kernelspec": {
   "display_name": "Python 3",
   "language": "python",
   "name": "python3"
  },
  "language_info": {
   "codemirror_mode": {
    "name": "ipython",
    "version": 3
   },
   "file_extension": ".py",
   "mimetype": "text/x-python",
   "name": "python",
   "nbconvert_exporter": "python",
   "pygments_lexer": "ipython3",
   "version": "3.7.4"
  }
 },
 "nbformat": 4,
 "nbformat_minor": 4
}
